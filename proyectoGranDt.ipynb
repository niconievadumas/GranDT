{
 "cells": [
  {
   "cell_type": "code",
   "execution_count": 83,
   "metadata": {},
   "outputs": [],
   "source": [
    "import pandas as pd"
   ]
  },
  {
   "cell_type": "code",
   "execution_count": 84,
   "metadata": {},
   "outputs": [],
   "source": [
    "participantes = ['Diego*','Bronce*','Hueso*', 'Nico*']\n",
    "planteles_dict = {}\n"
   ]
  },
  {
   "cell_type": "code",
   "execution_count": 89,
   "metadata": {},
   "outputs": [
    {
     "name": "stdout",
     "output_type": "stream",
     "text": [
      "Faltan o sobran jugadores! Inserte nuevamente los jugadores.\n",
      "Faltan o sobran jugadores! Inserte nuevamente los jugadores.\n",
      "{'Diego*': ['Armani', 'Fabra', 'Cali', 'Sicario', 'Pol', 'Aliendro', 'Romero', 'Benedetto', 'Villa', 'Pulga', 'Julian'], 'Bronce*': ['Armani', 'Fabra', 'Cali', 'Sicario', 'Pol', 'Aliendro', 'Romero', 'Benedetto', 'Villa', 'Pulga', 'Julian'], 'Hueso*': ['Armani', 'Fabra', 'Cali', 'Sicario', 'Pol', 'Aliendro', 'Romero', 'Benedetto', 'Villa', 'Pulga', 'Julian'], 'Nico*': ['Armani', 'Fabra', 'Cali', 'Sicario', 'Pol', 'Aliendro', 'Romero', 'Benedetto', 'Villa', 'Pulga', 'Julian']}\n"
     ]
    }
   ],
   "source": [
    "planteles_dict = {}\n",
    "\n",
    "for participante in participantes:\n",
    "    jugadores =input(f'Inserte los jugadores de {participante[:-1]}: ').split()\n",
    "    if len(jugadores) == 11:\n",
    "        planteles_dict[participante] = jugadores\n",
    "    else:\n",
    "        print('Faltan o sobran jugadores! Inserte nuevamente los jugadores.')\n",
    "        planteles_dict[participante] = input(f'Inserte NUEVAMENTE los jugadores de {participante[:-1]}: ').split()    \n",
    "\n",
    "for plantel in planteles_dict.values():\n",
    "    for i in range(len(plantel)):\n",
    "        plantel[i] = plantel[i].capitalize()\n",
    "    \n",
    "\n",
    "print(planteles_dict)"
   ]
  },
  {
   "cell_type": "code",
   "execution_count": 90,
   "metadata": {},
   "outputs": [
    {
     "name": "stdout",
     "output_type": "stream",
     "text": [
      "11\n",
      "['Armani', 'Fabra', 'Cali', 'Sicario', 'Pol', 'Aliendro', 'Romero', 'Benedetto', 'Villa', 'Pulga', 'Julian']\n"
     ]
    }
   ],
   "source": [
    "jugadores_incluidos = []\n",
    "puntaje_jugadores_incluidos = {}\n",
    "\n",
    "for plantel in planteles_dict.values():\n",
    "    for jugador in plantel:\n",
    "        if jugador not in jugadores_incluidos:\n",
    "            jugadores_incluidos.append(jugador)\n",
    "        else:\n",
    "            pass    \n",
    "\n",
    "for jugador in jugadores_incluidos:\n",
    "    puntaje_jugadores_incluidos[jugador] = int(input(f\"Puntaje de {jugador}: \"))\n",
    "        \n",
    "print(len(jugadores_incluidos))\n",
    "print(jugadores_incluidos)\n"
   ]
  },
  {
   "cell_type": "code",
   "execution_count": 91,
   "metadata": {},
   "outputs": [
    {
     "name": "stdout",
     "output_type": "stream",
     "text": [
      "[('Armani', 5), ('Fabra', 6), ('Cali', 4), ('Sicario', 5), ('Pol', 7), ('Aliendro', 8), ('Romero', 9), ('Benedetto', 7), ('Villa', 7), ('Pulga', 7), ('Julian', 7)]\n",
      "Fabra\n",
      "{'Armani': 5, 'Fabra': 6, 'Cali': 4, 'Sicario': 5, 'Pol': 7, 'Aliendro': 8, 'Romero': 9, 'Benedetto': 7, 'Villa': 7, 'Pulga': 7, 'Julian': 7}\n"
     ]
    }
   ],
   "source": [
    "# print(puntaje_jugadores_incluidos)\n",
    "# print(puntaje_jugadores_incluidos['Rossi'])\n",
    "punt_jug_punt_list = list(puntaje_jugadores_incluidos.items())\n",
    "print(punt_jug_punt_list)\n",
    "print(punt_jug_punt_list[1][0])\n",
    "print(puntaje_jugadores_incluidos)\n",
    "\n"
   ]
  },
  {
   "cell_type": "code",
   "execution_count": 92,
   "metadata": {},
   "outputs": [
    {
     "name": "stdout",
     "output_type": "stream",
     "text": [
      "{'Diego*': [('Armani', 5), ('Fabra', 6), ('Cali', 4), ('Sicario', 5), ('Pol', 7), ('Aliendro', 8), ('Romero', 9), ('Benedetto', 7), ('Villa', 7), ('Pulga', 7), ('Julian', 7)], 'Bronce*': [('Armani', 5), ('Fabra', 6), ('Cali', 4), ('Sicario', 5), ('Pol', 7), ('Aliendro', 8), ('Romero', 9), ('Benedetto', 7), ('Villa', 7), ('Pulga', 7), ('Julian', 7)], 'Hueso*': [('Armani', 5), ('Fabra', 6), ('Cali', 4), ('Sicario', 5), ('Pol', 7), ('Aliendro', 8), ('Romero', 9), ('Benedetto', 7), ('Villa', 7), ('Pulga', 7), ('Julian', 7)], 'Nico*': [('Armani', 5), ('Fabra', 6), ('Cali', 4), ('Sicario', 5), ('Pol', 7), ('Aliendro', 8), ('Romero', 9), ('Benedetto', 7), ('Villa', 7), ('Pulga', 7), ('Julian', 7)]}\n"
     ]
    }
   ],
   "source": [
    "jugadores_puntuados = list(puntaje_jugadores_incluidos.items())\n",
    "for plantel in planteles_dict.values():\n",
    "    for i in range(len(plantel)):\n",
    "        plantel[i] = (plantel[i], puntaje_jugadores_incluidos[plantel[i]])\n",
    "            \n",
    "            \n",
    "print(planteles_dict)            "
   ]
  },
  {
   "cell_type": "code",
   "execution_count": 93,
   "metadata": {},
   "outputs": [
    {
     "name": "stdout",
     "output_type": "stream",
     "text": [
      "        Diego  Puntos Diego     Bronce  Puntos Bronce      Hueso  \\\n",
      "1      Armani             5     Armani              5     Armani   \n",
      "2       Fabra             6      Fabra              6      Fabra   \n",
      "3        Cali             4       Cali              4       Cali   \n",
      "4     Sicario             5    Sicario              5    Sicario   \n",
      "5         Pol             7        Pol              7        Pol   \n",
      "6    Aliendro             8   Aliendro              8   Aliendro   \n",
      "7      Romero             9     Romero              9     Romero   \n",
      "8   Benedetto             7  Benedetto              7  Benedetto   \n",
      "9       Villa             7      Villa              7      Villa   \n",
      "10      Pulga             7      Pulga              7      Pulga   \n",
      "11     Julian             7     Julian              7     Julian   \n",
      "\n",
      "    Puntos Hueso       Nico  Puntos Nico  \n",
      "1              5     Armani            5  \n",
      "2              6      Fabra            6  \n",
      "3              4       Cali            4  \n",
      "4              5    Sicario            5  \n",
      "5              7        Pol            7  \n",
      "6              8   Aliendro            8  \n",
      "7              9     Romero            9  \n",
      "8              7  Benedetto            7  \n",
      "9              7      Villa            7  \n",
      "10             7      Pulga            7  \n",
      "11             7     Julian            7  \n"
     ]
    }
   ],
   "source": [
    "planteles_df = pd.DataFrame(planteles_dict, range(1,12))\n",
    "# print(planteles_df)\n",
    "\n",
    "for i in range(len(participantes)):\n",
    "    planteles_df[[f'{participantes[i][:-1]}', 'Puntos ' + f'{participantes[i][:-1]}']] = planteles_df[participantes[i]].apply(pd.Series)\n",
    "    \n",
    "planteles_df.drop(participantes, axis=1, inplace=True)\n",
    "\n",
    "print(planteles_df)\n",
    "\n",
    "\n",
    "# planteles_df.to_excel('Fecha x.xlsx')\n",
    "        "
   ]
  },
  {
   "cell_type": "code",
   "execution_count": 94,
   "metadata": {},
   "outputs": [
    {
     "name": "stdout",
     "output_type": "stream",
     "text": [
      "72\n"
     ]
    }
   ],
   "source": [
    "total_diego = planteles_df['Puntos Diego'].sum()\n",
    "print(total_diego)"
   ]
  },
  {
   "cell_type": "code",
   "execution_count": null,
   "metadata": {},
   "outputs": [],
   "source": []
  }
 ],
 "metadata": {
  "kernelspec": {
   "display_name": "Python 3.10.4 64-bit",
   "language": "python",
   "name": "python3"
  },
  "language_info": {
   "codemirror_mode": {
    "name": "ipython",
    "version": 3
   },
   "file_extension": ".py",
   "mimetype": "text/x-python",
   "name": "python",
   "nbconvert_exporter": "python",
   "pygments_lexer": "ipython3",
   "version": "3.10.4"
  },
  "orig_nbformat": 4,
  "vscode": {
   "interpreter": {
    "hash": "aee8b7b246df8f9039afb4144a1f6fd8d2ca17a180786b69acc140d282b71a49"
   }
  }
 },
 "nbformat": 4,
 "nbformat_minor": 2
}
