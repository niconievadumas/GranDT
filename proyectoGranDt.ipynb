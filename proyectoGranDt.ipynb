{
 "cells": [
  {
   "cell_type": "code",
   "execution_count": 30,
   "metadata": {},
   "outputs": [],
   "source": [
    "import pandas as pd"
   ]
  },
  {
   "cell_type": "code",
   "execution_count": 31,
   "metadata": {},
   "outputs": [],
   "source": [
    "participantes = ['Diego','Bronce','Hueso', 'Nico']\n",
    "planteles_dict = {}\n"
   ]
  },
  {
   "cell_type": "code",
   "execution_count": 32,
   "metadata": {},
   "outputs": [
    {
     "name": "stdout",
     "output_type": "stream",
     "text": [
      "{'Diego': ['Rossi', 'Fabra', 'Maidana', 'Sicario', 'Pol', 'Aliendro', 'Romero', 'Delacruz', 'Benedetto', 'Villa', 'Julian'], 'Bronce': ['Rossi', 'Fabra', 'Maidana', 'Sicario', 'Pol', 'Aliendro', 'Romero', 'Delacruz', 'Benedetto', 'Villa', 'Julian'], 'Hueso': ['Rossi', 'Fabra', 'Maidana', 'Sicario', 'Pol', 'Aliendro', 'Romero', 'Delacruz', 'Benedetto', 'Villa', 'Julian'], 'Nico': ['Rossi', 'Fabra', 'Maidana', 'Sicario', 'Pol', 'Aliendro', 'Romero', 'Delacruz', 'Benedetto', 'Villa', 'Julian']}\n"
     ]
    }
   ],
   "source": [
    "planteles_dict = {}\n",
    "\n",
    "for participante in participantes:\n",
    "    planteles_dict[participante] = input(f'Inserte los jugadores de {participante}: ').split()\n",
    "\n",
    "for plantel in planteles_dict.values():\n",
    "    for i in range(len(plantel)):\n",
    "        plantel[i] = plantel[i].capitalize()\n",
    "    \n",
    "\n",
    "print(planteles_dict)"
   ]
  },
  {
   "cell_type": "code",
   "execution_count": 33,
   "metadata": {},
   "outputs": [
    {
     "name": "stdout",
     "output_type": "stream",
     "text": [
      "11\n",
      "['Rossi', 'Fabra', 'Maidana', 'Sicario', 'Pol', 'Aliendro', 'Romero', 'Delacruz', 'Benedetto', 'Villa', 'Julian']\n"
     ]
    }
   ],
   "source": [
    "jugadores_incluidos = []\n",
    "puntaje_jugadores_incluidos = {}\n",
    "\n",
    "for plantel in planteles_dict.values():\n",
    "    for jugador in plantel:\n",
    "        if jugador not in jugadores_incluidos:\n",
    "            jugadores_incluidos.append(jugador)\n",
    "        else:\n",
    "            pass    \n",
    "\n",
    "for jugador in jugadores_incluidos:\n",
    "    puntaje_jugadores_incluidos[jugador] = int(input(f\"Puntaje de {jugador}: \"))\n",
    "        \n",
    "print(len(jugadores_incluidos))\n",
    "print(jugadores_incluidos)\n"
   ]
  },
  {
   "cell_type": "code",
   "execution_count": 34,
   "metadata": {},
   "outputs": [
    {
     "name": "stdout",
     "output_type": "stream",
     "text": [
      "[('Rossi', 5), ('Fabra', 6), ('Maidana', 7), ('Sicario', 8), ('Pol', 9), ('Aliendro', 12), ('Romero', 3), ('Delacruz', 9), ('Benedetto', 6), ('Villa', 7), ('Julian', 6)]\n",
      "Fabra\n",
      "{'Rossi': 5, 'Fabra': 6, 'Maidana': 7, 'Sicario': 8, 'Pol': 9, 'Aliendro': 12, 'Romero': 3, 'Delacruz': 9, 'Benedetto': 6, 'Villa': 7, 'Julian': 6}\n"
     ]
    }
   ],
   "source": [
    "# print(puntaje_jugadores_incluidos)\n",
    "# print(puntaje_jugadores_incluidos['Rossi'])\n",
    "punt_jug_punt_list = list(puntaje_jugadores_incluidos.items())\n",
    "print(punt_jug_punt_list)\n",
    "print(punt_jug_punt_list[1][0])\n",
    "print(puntaje_jugadores_incluidos)\n",
    "\n"
   ]
  },
  {
   "cell_type": "code",
   "execution_count": 35,
   "metadata": {},
   "outputs": [
    {
     "name": "stdout",
     "output_type": "stream",
     "text": [
      "{'Diego': [('Rossi', 5), ('Fabra', 6), ('Maidana', 7), ('Sicario', 8), ('Pol', 9), ('Aliendro', 12), ('Romero', 3), ('Delacruz', 9), ('Benedetto', 6), ('Villa', 7), ('Julian', 6)], 'Bronce': [('Rossi', 5), ('Fabra', 6), ('Maidana', 7), ('Sicario', 8), ('Pol', 9), ('Aliendro', 12), ('Romero', 3), ('Delacruz', 9), ('Benedetto', 6), ('Villa', 7), ('Julian', 6)], 'Hueso': [('Rossi', 5), ('Fabra', 6), ('Maidana', 7), ('Sicario', 8), ('Pol', 9), ('Aliendro', 12), ('Romero', 3), ('Delacruz', 9), ('Benedetto', 6), ('Villa', 7), ('Julian', 6)], 'Nico': [('Rossi', 5), ('Fabra', 6), ('Maidana', 7), ('Sicario', 8), ('Pol', 9), ('Aliendro', 12), ('Romero', 3), ('Delacruz', 9), ('Benedetto', 6), ('Villa', 7), ('Julian', 6)]}\n"
     ]
    }
   ],
   "source": [
    "jugadores_puntuados = list(puntaje_jugadores_incluidos.items())\n",
    "for plantel in planteles_dict.values():\n",
    "    for i in range(len(plantel)):\n",
    "        plantel[i] = (plantel[i], puntaje_jugadores_incluidos[plantel[i]])\n",
    "            \n",
    "            \n",
    "print(planteles_dict)            "
   ]
  },
  {
   "cell_type": "code",
   "execution_count": 36,
   "metadata": {},
   "outputs": [
    {
     "name": "stdout",
     "output_type": "stream",
     "text": [
      "             Diego          Bronce           Hueso            Nico\n",
      "1       (Rossi, 5)      (Rossi, 5)      (Rossi, 5)      (Rossi, 5)\n",
      "2       (Fabra, 6)      (Fabra, 6)      (Fabra, 6)      (Fabra, 6)\n",
      "3     (Maidana, 7)    (Maidana, 7)    (Maidana, 7)    (Maidana, 7)\n",
      "4     (Sicario, 8)    (Sicario, 8)    (Sicario, 8)    (Sicario, 8)\n",
      "5         (Pol, 9)        (Pol, 9)        (Pol, 9)        (Pol, 9)\n",
      "6   (Aliendro, 12)  (Aliendro, 12)  (Aliendro, 12)  (Aliendro, 12)\n",
      "7      (Romero, 3)     (Romero, 3)     (Romero, 3)     (Romero, 3)\n",
      "8    (Delacruz, 9)   (Delacruz, 9)   (Delacruz, 9)   (Delacruz, 9)\n",
      "9   (Benedetto, 6)  (Benedetto, 6)  (Benedetto, 6)  (Benedetto, 6)\n",
      "10      (Villa, 7)      (Villa, 7)      (Villa, 7)      (Villa, 7)\n",
      "11     (Julian, 6)     (Julian, 6)     (Julian, 6)     (Julian, 6)\n"
     ]
    }
   ],
   "source": [
    "planteles_df = pd.DataFrame(planteles_dict, range(1,12))\n",
    "print(planteles_df)\n",
    "\n",
    "\n",
    "# planteles_df.to_excel('Fecha x.xlsx')\n",
    "        "
   ]
  },
  {
   "cell_type": "code",
   "execution_count": 37,
   "metadata": {},
   "outputs": [
    {
     "data": {
      "text/plain": [
       "44"
      ]
     },
     "execution_count": 37,
     "metadata": {},
     "output_type": "execute_result"
    }
   ],
   "source": [
    "planteles_df.size"
   ]
  }
 ],
 "metadata": {
  "kernelspec": {
   "display_name": "Python 3.10.4 64-bit",
   "language": "python",
   "name": "python3"
  },
  "language_info": {
   "codemirror_mode": {
    "name": "ipython",
    "version": 3
   },
   "file_extension": ".py",
   "mimetype": "text/x-python",
   "name": "python",
   "nbconvert_exporter": "python",
   "pygments_lexer": "ipython3",
   "version": "3.10.4"
  },
  "orig_nbformat": 4,
  "vscode": {
   "interpreter": {
    "hash": "aee8b7b246df8f9039afb4144a1f6fd8d2ca17a180786b69acc140d282b71a49"
   }
  }
 },
 "nbformat": 4,
 "nbformat_minor": 2
}
